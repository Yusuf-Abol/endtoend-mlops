{
 "cells": [
  {
   "cell_type": "code",
   "execution_count": 1,
   "id": "3eb4c597",
   "metadata": {},
   "outputs": [],
   "source": [
    "import os"
   ]
  },
  {
   "cell_type": "code",
   "execution_count": 2,
   "id": "fbb0f804",
   "metadata": {},
   "outputs": [
    {
     "data": {
      "text/plain": [
       "'c:\\\\Users\\\\DELL\\\\Desktop\\\\endtoend-mlops\\\\projects\\\\covid_chest_classifier\\\\notebooks'"
      ]
     },
     "execution_count": 2,
     "metadata": {},
     "output_type": "execute_result"
    }
   ],
   "source": [
    "%pwd"
   ]
  },
  {
   "cell_type": "code",
   "execution_count": 3,
   "id": "0ee23442",
   "metadata": {},
   "outputs": [],
   "source": [
    "os.chdir(\"../\")"
   ]
  },
  {
   "cell_type": "code",
   "execution_count": 4,
   "id": "bba90ac0",
   "metadata": {},
   "outputs": [
    {
     "data": {
      "text/plain": [
       "'c:\\\\Users\\\\DELL\\\\Desktop\\\\endtoend-mlops\\\\projects\\\\covid_chest_classifier'"
      ]
     },
     "execution_count": 4,
     "metadata": {},
     "output_type": "execute_result"
    }
   ],
   "source": [
    "%pwd"
   ]
  },
  {
   "cell_type": "code",
   "execution_count": 5,
   "id": "958a8cfb",
   "metadata": {},
   "outputs": [],
   "source": [
    "os.environ[\"MLFLOW_TRACKING_URI\"]=\"https://dagshub.com/Yusuf-Abol/endtoend-mlops.mlflow\"\n",
    "os.environ[\"MLFLOW_TRACKING_USERNAME\"]=\"Yusuf-Abol\"\n",
    "os.environ[\"MLFLOW_TRACKING_PASSWORD\"]=\"1ed48983c97e28f11ce699668993977aeca9bdb3\""
   ]
  },
  {
   "cell_type": "code",
   "execution_count": null,
   "id": "b3d3946b",
   "metadata": {},
   "outputs": [],
   "source": []
  },
  {
   "cell_type": "code",
   "execution_count": 6,
   "id": "38d1e84a",
   "metadata": {},
   "outputs": [],
   "source": [
    "import torch\n",
    "import torch.nn as nn"
   ]
  },
  {
   "cell_type": "code",
   "execution_count": 7,
   "id": "6f47f5ae",
   "metadata": {},
   "outputs": [],
   "source": [
    "model = torch.load(\"artifacts/training/model.pth\", weights_only=False)"
   ]
  },
  {
   "cell_type": "code",
   "execution_count": 8,
   "id": "fa84bc12",
   "metadata": {},
   "outputs": [],
   "source": [
    "from dataclasses import dataclass\n",
    "from pathlib import Path\n",
    "\n",
    "@dataclass(frozen=True)\n",
    "class EvaluationConfig:\n",
    "    path_of_model: Path\n",
    "    training_data: Path\n",
    "    all_params: dict\n",
    "    mlflow_uri: str\n",
    "    params_image_size: list\n",
    "    params_batch_size: int"
   ]
  },
  {
   "cell_type": "code",
   "execution_count": 9,
   "id": "57732793",
   "metadata": {},
   "outputs": [],
   "source": [
    "from ccclassifier.constants import *\n",
    "from ccclassifier.utils.common import read_yaml, create_directories, save_json"
   ]
  },
  {
   "cell_type": "code",
   "execution_count": 10,
   "id": "a8413c75",
   "metadata": {},
   "outputs": [],
   "source": [
    "class ConfigurationManager:\n",
    "    def __init__(\n",
    "        self, \n",
    "        config_filepath = CONFIG_FILE_PATH,\n",
    "        params_filepath = PARAMS_FILE_PATH):\n",
    "        self.config = read_yaml(config_filepath)\n",
    "        self.params = read_yaml(params_filepath)\n",
    "        create_directories([self.config.artifacts_root])\n",
    "\n",
    "    \n",
    "    def get_evaluation_config(self) -> EvaluationConfig:\n",
    "        eval_config = EvaluationConfig(\n",
    "            path_of_model=\"artifacts/training/model.pth\",\n",
    "            training_data=\"artifacts/data_ingestion/Covid19-dataset\",\n",
    "            mlflow_uri=\"https://dagshub.com/Yusuf-Abol/endtoend-mlops.mlflow\",\n",
    "            all_params=self.params,\n",
    "            params_image_size=self.params.base_model.image_size + [3],  # Add channel dimension\n",
    "            params_batch_size=self.params.training.batch_size\n",
    "        )\n",
    "        return eval_config"
   ]
  },
  {
   "cell_type": "code",
   "execution_count": 11,
   "id": "93fb29f1",
   "metadata": {},
   "outputs": [
    {
     "name": "stdout",
     "output_type": "stream",
     "text": [
      "[2025-09-20 11:51:16,463: INFO: utils: NumExpr defaulting to 8 threads.]\n"
     ]
    }
   ],
   "source": [
    "import torch\n",
    "import torch.nn as nn\n",
    "from torch.utils.data import DataLoader\n",
    "from torchvision import transforms, datasets\n",
    "import mlflow\n",
    "import mlflow.pytorch\n",
    "from pathlib import Path\n",
    "from urllib.parse import urlparse\n",
    "import json"
   ]
  },
  {
   "cell_type": "code",
   "execution_count": 12,
   "id": "0c84dbcf",
   "metadata": {},
   "outputs": [],
   "source": [
    "class Evaluation:\n",
    "    def __init__(self, config: EvaluationConfig):\n",
    "        self.config = config\n",
    "        self.device = torch.device('cuda' if torch.cuda.is_available() else 'cpu')\n",
    "    \n",
    "    def _valid_generator(self):\n",
    "        transform = transforms.Compose([\n",
    "            transforms.Resize(self.config.params_image_size[:-1]),\n",
    "            transforms.ToTensor(),\n",
    "            transforms.Normalize(mean=[0.485, 0.456, 0.406], std=[0.229, 0.224, 0.225])\n",
    "        ])\n",
    "        \n",
    "        full_dataset = datasets.ImageFolder(\n",
    "            root=self.config.training_data,\n",
    "            transform=transform\n",
    "        )\n",
    "        \n",
    "        train_size = int(0.7 * len(full_dataset))\n",
    "        val_size = len(full_dataset) - train_size\n",
    "        _, val_dataset = torch.utils.data.random_split(full_dataset, [train_size, val_size])\n",
    "        \n",
    "        self.valid_generator = DataLoader(\n",
    "            val_dataset,\n",
    "            batch_size=self.config.params_batch_size,\n",
    "            shuffle=False\n",
    "        )\n",
    "\n",
    "    @staticmethod\n",
    "    def load_model(path: Path) -> nn.Module:\n",
    "        # Load state dict and create model architecture\n",
    "        state_dict = torch.load(path, map_location='cpu', weights_only=False)\n",
    "        \n",
    "        # You need to recreate your model architecture here\n",
    "        # Example for ResNet18:\n",
    "        from torchvision.models import resnet18\n",
    "        model = resnet18(num_classes=3)  # Adjust num_classes as needed\n",
    "        model.load_state_dict(state_dict)\n",
    "        \n",
    "        return model\n",
    "    \n",
    "    def evaluation(self):\n",
    "        self.model = self.load_model(self.config.path_of_model)\n",
    "        self.model.to(self.device)\n",
    "        self._valid_generator()\n",
    "        \n",
    "        self.model.eval()\n",
    "        total_loss = 0.0\n",
    "        correct = 0\n",
    "        total = 0\n",
    "        criterion = nn.CrossEntropyLoss()\n",
    "        \n",
    "        with torch.no_grad():\n",
    "            for data, target in self.valid_generator:\n",
    "                data, target = data.to(self.device), target.to(self.device)\n",
    "                output = self.model(data)\n",
    "                loss = criterion(output, target)\n",
    "                total_loss += loss.item()\n",
    "                _, predicted = torch.max(output.data, 1)\n",
    "                total += target.size(0)\n",
    "                correct += (predicted == target).sum().item()\n",
    "        \n",
    "        avg_loss = total_loss / len(self.valid_generator)\n",
    "        accuracy = correct / total\n",
    "        self.score = [avg_loss, accuracy]\n",
    "        self.save_score()\n",
    "    \n",
    "    def save_score(self):\n",
    "        scores = {\"loss\": self.score[0], \"accuracy\": self.score[1]}\n",
    "        save_json(path=Path(\"scores.json\"), data=scores)\n",
    "    \n",
    "    def log_into_mlflow(self):\n",
    "        mlflow.set_registry_uri(self.config.mlflow_uri)\n",
    "        tracking_url_type_store = urlparse(mlflow.get_tracking_uri()).scheme\n",
    "        \n",
    "        with mlflow.start_run():\n",
    "            mlflow.log_params(self.config.all_params)\n",
    "            mlflow.log_metrics(\n",
    "                {\"loss\": self.score[0], \"accuracy\": self.score[1]}\n",
    "            )\n",
    "            # Model registry does not work with file store\n",
    "            if tracking_url_type_store != \"file\":\n",
    "                # Register the model\n",
    "                # There are other ways to use the Model Registry, which depends on the use case,\n",
    "                # please refer to the doc for more information:\n",
    "                # https://mlflow.org/docs/latest/model-registry.html#api-workflow\n",
    "                mlflow.pytorch.log_model(self.model, \"model\", registered_model_name=\"ResNet18Model\")\n",
    "            else:\n",
    "                mlflow.pytorch.log_model(self.model, \"model\")"
   ]
  },
  {
   "cell_type": "code",
   "execution_count": 13,
   "id": "9d1ef8b9",
   "metadata": {},
   "outputs": [
    {
     "name": "stdout",
     "output_type": "stream",
     "text": [
      "[2025-09-20 11:51:20,062: INFO: common: yaml file: config\\config.yaml loaded successfully]\n",
      "[2025-09-20 11:51:20,067: INFO: common: yaml file: params.yaml loaded successfully]\n",
      "[2025-09-20 11:51:20,070: INFO: common: created directory at: artifacts]\n",
      "[2025-09-20 11:51:28,230: INFO: common: json file saved at: scores.json]\n",
      "[2025-09-20 11:52:27,744: WARNING: connectionpool: Retrying (Retry(total=4, connect=5, read=4, redirect=5, status=5)) after connection broken by 'RemoteDisconnected('Remote end closed connection without response')': /Yusuf-Abol/endtoend-mlops.mlflow/api/2.0/mlflow/runs/create]\n",
      "[2025-09-20 11:52:44,746: WARNING: connectionpool: Retrying (Retry(total=3, connect=5, read=3, redirect=5, status=5)) after connection broken by 'RemoteDisconnected('Remote end closed connection without response')': /Yusuf-Abol/endtoend-mlops.mlflow/api/2.0/mlflow/runs/create]\n",
      "[2025-09-20 11:53:05,578: WARNING: connectionpool: Retrying (Retry(total=2, connect=5, read=2, redirect=5, status=5)) after connection broken by 'RemoteDisconnected('Remote end closed connection without response')': /Yusuf-Abol/endtoend-mlops.mlflow/api/2.0/mlflow/runs/create]\n"
     ]
    },
    {
     "name": "stderr",
     "output_type": "stream",
     "text": [
      "2025/09/20 11:53:38 WARNING mlflow.models.model: Model logged without a signature and input example. Please set `input_example` parameter when logging the model to auto infer the model signature.\n",
      "Registered model 'ResNet18Model' already exists. Creating a new version of this model...\n",
      "2025/09/20 11:57:30 INFO mlflow.store.model_registry.abstract_store: Waiting up to 300 seconds for model version to finish creation. Model name: ResNet18Model, version 5\n",
      "Created version '5' of model 'ResNet18Model'.\n"
     ]
    },
    {
     "name": "stdout",
     "output_type": "stream",
     "text": [
      "🏃 View run sneaky-fly-606 at: https://dagshub.com/Yusuf-Abol/endtoend-mlops.mlflow/#/experiments/0/runs/75af3eefad6746168ef30e60e20efadb\n",
      "🧪 View experiment at: https://dagshub.com/Yusuf-Abol/endtoend-mlops.mlflow/#/experiments/0\n"
     ]
    }
   ],
   "source": [
    "try:\n",
    "    config = ConfigurationManager()\n",
    "    eval_config = config.get_evaluation_config()\n",
    "    evaluation = Evaluation(eval_config)\n",
    "    evaluation.evaluation()\n",
    "    evaluation.log_into_mlflow()\n",
    "\n",
    "except Exception as e:\n",
    "   raise e"
   ]
  },
  {
   "cell_type": "code",
   "execution_count": null,
   "id": "ecdd334b",
   "metadata": {},
   "outputs": [],
   "source": []
  }
 ],
 "metadata": {
  "kernelspec": {
   "display_name": "tubato_env",
   "language": "python",
   "name": "python3"
  },
  "language_info": {
   "codemirror_mode": {
    "name": "ipython",
    "version": 3
   },
   "file_extension": ".py",
   "mimetype": "text/x-python",
   "name": "python",
   "nbconvert_exporter": "python",
   "pygments_lexer": "ipython3",
   "version": "3.11.13"
  }
 },
 "nbformat": 4,
 "nbformat_minor": 5
}
