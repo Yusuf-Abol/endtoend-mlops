{
 "cells": [
  {
   "cell_type": "code",
   "execution_count": 1,
   "id": "3fd72276",
   "metadata": {},
   "outputs": [],
   "source": [
    "import os"
   ]
  },
  {
   "cell_type": "code",
   "execution_count": 2,
   "id": "41cfe854",
   "metadata": {},
   "outputs": [
    {
     "data": {
      "text/plain": [
       "'c:\\\\Users\\\\DELL\\\\Desktop\\\\endtoend-mlops\\\\projects\\\\covid_chest_classifier\\\\notebooks'"
      ]
     },
     "execution_count": 2,
     "metadata": {},
     "output_type": "execute_result"
    }
   ],
   "source": [
    "%pwd"
   ]
  },
  {
   "cell_type": "code",
   "execution_count": 3,
   "id": "7f6a1bef",
   "metadata": {},
   "outputs": [],
   "source": [
    "os.chdir(\"../\")"
   ]
  },
  {
   "cell_type": "code",
   "execution_count": 4,
   "id": "c2970c0a",
   "metadata": {},
   "outputs": [
    {
     "data": {
      "text/plain": [
       "'c:\\\\Users\\\\DELL\\\\Desktop\\\\endtoend-mlops\\\\projects\\\\covid_chest_classifier'"
      ]
     },
     "execution_count": 4,
     "metadata": {},
     "output_type": "execute_result"
    }
   ],
   "source": [
    "%pwd"
   ]
  },
  {
   "cell_type": "code",
   "execution_count": null,
   "id": "7a56bd2a",
   "metadata": {},
   "outputs": [],
   "source": [
    "from dataclasses import dataclass\n",
    "from pathlib import Path\n",
    "\n",
    "@dataclass(frozen=True)\n",
    "class PrepareBaseModelConfig:\n",
    "    root_dir: Path\n",
    "    base_model_path: Path\n",
    "    updated_base_model_path: Path\n",
    "    params_image_size: list\n",
    "    params_learning_rate: float\n",
    "    params_weights: str | None\n",
    "    params_classes: int\n",
    "    params_freeze_base: bool   \n"
   ]
  },
  {
   "cell_type": "code",
   "execution_count": 6,
   "id": "657f03ce",
   "metadata": {},
   "outputs": [],
   "source": [
    "from src.ccclassifier.constants import *\n",
    "from src.ccclassifier.utils.common import read_yaml, create_directories\n"
   ]
  },
  {
   "cell_type": "code",
   "execution_count": 7,
   "id": "c4b57a4e",
   "metadata": {},
   "outputs": [],
   "source": [
    "class ConfigurationManager:\n",
    "    def __init__(\n",
    "        self,\n",
    "        config_filepath=CONFIG_FILE_PATH,\n",
    "        params_filepath=PARAMS_FILE_PATH\n",
    "    ):\n",
    "        self.config = read_yaml(config_filepath)\n",
    "        self.params = read_yaml(params_filepath)\n",
    "\n",
    "        # create root artifacts directory\n",
    "        create_directories([self.config.artifacts_root])\n",
    "\n",
    "    def get_prepare_base_model_config(self) -> PrepareBaseModelConfig:\n",
    "        config = self.config.prepare_base_model\n",
    "\n",
    "        create_directories([config.root_dir])\n",
    "\n",
    "        prepare_base_model_config = PrepareBaseModelConfig(\n",
    "            root_dir=Path(config.root_dir),\n",
    "            base_model_path=Path(config.base_model_path),\n",
    "            updated_base_model_path=Path(config.updated_base_model_path),\n",
    "            params_image_size=self.params.base_model.image_size,\n",
    "            params_learning_rate=self.params.training.learning_rate,\n",
    "            params_weights=self.params.base_model.weights,\n",
    "            params_classes=self.params.base_model.num_classes,\n",
    "            params_freeze_base=self.params.base_model.freeze_base,\n",
    "        )\n",
    "\n",
    "        return prepare_base_model_config"
   ]
  },
  {
   "cell_type": "code",
   "execution_count": null,
   "id": "e968c4f7",
   "metadata": {},
   "outputs": [],
   "source": [
    "#import yaml\n",
    "#import urllib.request as request\n",
    "#from zipfile import ZipFile\n",
    "\n",
    "import torch\n",
    "import torch.nn as nn\n",
    "import torchvision.models as models\n",
    "from torchinfo import summary"
   ]
  },
  {
   "cell_type": "code",
   "execution_count": 9,
   "id": "5d8d63b2",
   "metadata": {},
   "outputs": [],
   "source": [
    "class PrepareBaseModel:\n",
    "    def __init__(self, config: PrepareBaseModelConfig):\n",
    "        self.config = config\n",
    "        self.model = None\n",
    "\n",
    "    def get_base_model(self):\n",
    "        \"\"\"Load pretrained ResNet backbone\"\"\"\n",
    "        weights = None\n",
    "        if self.config.params_weights:  # e.g. \"IMAGENET1K_V1\"\n",
    "            weights = getattr(models, \"ResNet18_Weights\").IMAGENET1K_V1\n",
    "\n",
    "        self.model = models.resnet18(weights=weights)\n",
    "\n",
    "        # save just backbone weights (state_dict only)\n",
    "        self.save_model(self.config.base_model_path, self.model.state_dict())\n",
    "        return self.model\n",
    "\n",
    "    @staticmethod\n",
    "    def _prepare_full_model(model, classes, freeze_all, learning_rate):\n",
    "        \"\"\"Freeze layers + replace classifier\"\"\"\n",
    "        if freeze_all:\n",
    "            for param in model.parameters():\n",
    "                param.requires_grad = False\n",
    "\n",
    "        in_features = model.fc.in_features\n",
    "        model.fc = nn.Linear(in_features, classes)\n",
    "\n",
    "        optimizer = torch.optim.SGD(model.parameters(), lr=learning_rate)\n",
    "        loss_fn = nn.CrossEntropyLoss()\n",
    "\n",
    "        return model, optimizer, loss_fn\n",
    "\n",
    "    def update_base_model(self):\n",
    "        \"\"\"Prepare full model for training\"\"\"\n",
    "        self.model, self.optimizer, self.loss_fn = self._prepare_full_model(\n",
    "            model=self.model,\n",
    "            classes=self.config.params_classes,\n",
    "            freeze_all=self.config.params_freeze_base,\n",
    "            learning_rate=self.config.params_learning_rate\n",
    "        )\n",
    "\n",
    "        # save updated model weights (best practice: state_dict)\n",
    "        self.save_model(self.config.updated_base_model_path, self.model.state_dict())\n",
    "\n",
    "    @staticmethod\n",
    "    def save_model(path: Path, obj):\n",
    "        \"\"\"Save model weights or optimizer state\"\"\"\n",
    "        path.parent.mkdir(parents=True, exist_ok=True)\n",
    "        torch.save(obj, path)"
   ]
  },
  {
   "cell_type": "code",
   "execution_count": null,
   "id": "466fc12a",
   "metadata": {},
   "outputs": [
    {
     "name": "stdout",
     "output_type": "stream",
     "text": [
      "[2025-09-06 08:46:51,762: INFO: common: yaml file: config\\config.yaml loaded successfully]\n",
      "[2025-09-06 08:46:51,766: INFO: common: yaml file: params.yaml loaded successfully]\n",
      "[2025-09-06 08:46:51,767: INFO: common: created directory at: artifacts]\n",
      "[2025-09-06 08:46:51,769: INFO: common: created directory at: artifacts/prepare_base_model]\n",
      ">> Base model (ResNet18) loaded and backbone weights saved.\n",
      ">> Full model prepared and updated weights saved.\n",
      "Trainable params: 1,539 / 11,178,051 total\n"
     ]
    }
   ],
   "source": [
    "try:\n",
    "    # Step 1: Load configuration\n",
    "    config = ConfigurationManager()\n",
    "    prepare_base_model_config = config.get_prepare_base_model_config()\n",
    "\n",
    "    # Step 2: Initialize component\n",
    "    prepare_base_model = PrepareBaseModel(config=prepare_base_model_config)\n",
    "\n",
    "    # Step 3: Get base model (backbone only)\n",
    "    model = prepare_base_model.get_base_model()\n",
    "    print(\">> Base model (ResNet18) loaded and backbone weights saved.\")\n",
    "\n",
    "    # Show backbone summary\n",
    "    summary(model, input_size=(1, 3, *prepare_base_model_config.params_image_size))\n",
    "\n",
    "    # Step 4: Update with classifier head + optimizer/loss\n",
    "    prepare_base_model.update_base_model()\n",
    "    print(\">> Full model prepared and updated weights saved.\")\n",
    "\n",
    "    # Show updated model summary\n",
    "    summary(model, input_size=(1, 3, *prepare_base_model_config.params_image_size))\n",
    "\n",
    "    #  Print trainable parameter count\n",
    "    trainable_params = sum(p.numel() for p in model.parameters() if p.requires_grad)\n",
    "    total_params = sum(p.numel() for p in model.parameters())\n",
    "    print(f\"Trainable params: {trainable_params:,} / {total_params:,} total\")\n",
    "\n",
    "except Exception as e:\n",
    "    print(\"Error in PrepareBaseModel pipeline:\", str(e))\n",
    "    raise e"
   ]
  },
  {
   "cell_type": "code",
   "execution_count": null,
   "id": "36bf477b",
   "metadata": {},
   "outputs": [],
   "source": []
  }
 ],
 "metadata": {
  "kernelspec": {
   "display_name": "tubato_env",
   "language": "python",
   "name": "python3"
  },
  "language_info": {
   "codemirror_mode": {
    "name": "ipython",
    "version": 3
   },
   "file_extension": ".py",
   "mimetype": "text/x-python",
   "name": "python",
   "nbconvert_exporter": "python",
   "pygments_lexer": "ipython3",
   "version": "3.11.13"
  }
 },
 "nbformat": 4,
 "nbformat_minor": 5
}
